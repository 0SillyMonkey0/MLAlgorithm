{
 "cells": [
  {
   "cell_type": "code",
   "execution_count": 37,
   "metadata": {
    "collapsed": true
   },
   "outputs": [],
   "source": [
    "from numpy import *\n",
    "import matplotlib\n",
    "import matplotlib.pyplot as plt"
   ]
  },
  {
   "cell_type": "code",
   "execution_count": 38,
   "metadata": {
    "collapsed": true
   },
   "outputs": [],
   "source": [
    "from numpy import *\n",
    "import matplotlib\n",
    "import matplotlib.pyplot as plt\n",
    "\n",
    "def loadDataSet(fileName):\n",
    "    dataMat = []; labelMat = []\n",
    "    fr = open(fileName)\n",
    "    for line in fr.readlines():\n",
    "        lineArr = line.strip().split(',')\n",
    "        dataMat.append([float(lineArr[0]), float(lineArr[1])])\n",
    "        labelMat.append(float(lineArr[2]))\n",
    "    return dataMat, labelMat\n",
    "\n",
    "def clipAlpha(aj, H, L):\n",
    "    if aj > H:\n",
    "        aj = H\n",
    "    if L > aj:\n",
    "        aj = L\n",
    "    return aj"
   ]
  },
  {
   "cell_type": "code",
   "execution_count": 43,
   "metadata": {
    "collapsed": true
   },
   "outputs": [],
   "source": [
    "def naiveSMO(dataMatIn, classLabels, C, toler, maxIter):\n",
    "    dataMatrix = mat(dataMatIn); labelMat = mat(classLabels).transpose()\n",
    "    b = 0; m, n = shape(dataMatrix)\n",
    "    alphas = mat(zeros((m, 1)))\n",
    "    iter = 0\n",
    "    while (iter < maxIter):\n",
    "        alphaPairsChanged = 0 \n",
    "        for i in range(m):\n",
    "            fXi = float(multiply(alphas, labelMat).T*(dataMatrix*dataMatrix[i,:].T)) + b \n",
    "            Ei = fXi - float(labelMat[i]) \n",
    "            if ((labelMat[i]*Ei < -toler) and (alphas[i] < C)) or ((labelMat[i]*Ei > toler) and (alphas[i]>0)):\n",
    "                #randomly pick j\n",
    "                j = random.randint(n)\n",
    "                while i == j:\n",
    "                    j = random.randint(n)\n",
    "               \n",
    "                fXj = float(multiply(alphas, labelMat).T*(dataMatrix*dataMatrix[j, :].T)) + b\n",
    "                Ej = fXj - float(labelMat[j])\n",
    "                alphaIold = alphas[i].copy()\n",
    "                alphaJold = alphas[j].copy()\n",
    "                if (labelMat[i] != labelMat[j]):\n",
    "                    L = max(0, alphas[j] - alphas[i])\n",
    "                    H = min(C, C + alphas[j] - alphas[i])\n",
    "                else:\n",
    "                    L = max(0, alphas[j]+alphas[i] - C)\n",
    "                    H = min(C, alphas[j]+alphas[i])\n",
    "                if L == H: \n",
    "                    continue\n",
    "                eta = 2.0 * dataMatrix[i, :]*dataMatrix[j,:].T-dataMatrix[i,:]*dataMatrix[i,:].T-dataMatrix[j,:]*dataMatrix[j,:].T\n",
    "                if eta >= 0: \n",
    "                    continue\n",
    "                                    \n",
    "                # update alpha\n",
    "                alphas[j] -= labelMat[j]*(Ei-Ej)/eta\n",
    "                alphas[j] = clipAlpha(alphas[j], H, L)\n",
    "                if (abs(alphas[j] - alphaJold) < 0.00001):    # j dose not move enough\n",
    "                    continue           \n",
    "                alphas[i] += labelMat[j] * labelMat[i] * (alphaJold-alphas[j])\n",
    "                \n",
    "                # update b\n",
    "                b1 = b - Ei - labelMat[i]*(alphas[i]-alphaIold)*dataMatrix[i,:]*dataMatrix[i,:].T-labelMat[j]*(alphas[j]-alphaJold)*dataMatrix[i,:]*dataMatrix[j,:].T\n",
    "                b2 = b - Ej - labelMat[i]*(alphas[i]-alphaIold)*dataMatrix[i,:]*dataMatrix[j,:].T-labelMat[j]*(alphas[j]-alphaJold)*dataMatrix[j,:]*dataMatrix[j,:].T\n",
    "                if (0 < alphas[i]) and (C > alphas[i]): b = b1\n",
    "                elif (0 < alphas[j]) and (C > alphas[j]): b = b2\n",
    "                else: b = (b1 + b2)/2.0\n",
    "                alphaPairsChanged += 1\n",
    "\n",
    "        if (alphaPairsChanged == 0): iter += 1\n",
    "        else: iter = 0\n",
    "\n",
    "    return b, alphas\n",
    "    "
   ]
  },
  {
   "cell_type": "code",
   "execution_count": 44,
   "metadata": {
    "collapsed": true
   },
   "outputs": [],
   "source": [
    "def draw(alpha, bet, data, label):\n",
    "    plt.xlabel(u\"x1\")\n",
    "    plt.xlim(0, 100)\n",
    "    plt.ylabel(u\"x2\")\n",
    "    for i in range(len(label)):\n",
    "        if label[i] > 0:\n",
    "            plt.plot(data[i][0], data[i][1], 'or')\n",
    "        else:\n",
    "            plt.plot(data[i][0], data[i][1], 'og')\n",
    "    w1 = 0.0\n",
    "    w2 = 0.0\n",
    "    for i in range(len(label)):\n",
    "        w1 += alpha[i] * label[i] * data[i][0]\n",
    "        w2 += alpha[i] * label[i] * data[i][1]\n",
    "    w = float(- w1 / w2)\n",
    "    \n",
    "    b = float(- bet / w2)\n",
    "    r = float(1 / w2)\n",
    "    lp_x1 = list([10, 90])\n",
    "    lp_x2 = []\n",
    "    lp_x2up = []\n",
    "    lp_x2down = []\n",
    "    for x1 in lp_x1:\n",
    "        lp_x2.append(w * x1 + b)\n",
    "        lp_x2up.append(w * x1 + b + r)\n",
    "        lp_x2down.append(w * x1 + b - r)\n",
    "    lp_x2 = list(lp_x2)\n",
    "    lp_x2up = list(lp_x2up)\n",
    "    lp_x2down = list(lp_x2down)\n",
    "    plt.plot(lp_x1, lp_x2, 'b')\n",
    "    plt.plot(lp_x1, lp_x2up, 'b--')\n",
    "    plt.plot(lp_x1, lp_x2down, 'b--')\n",
    "    plt.show()"
   ]
  },
  {
   "cell_type": "code",
   "execution_count": 45,
   "metadata": {},
   "outputs": [
    {
     "data": {
      "image/png": "[encoded data removed]",
      "text/plain": [
       "<matplotlib.figure.Figure at 0x25a169a9a58>"
      ]
     },
     "metadata": {},
     "output_type": "display_data"
    }
   ],
   "source": [
    "filestr = \"F:MLAlgorithm/SVM/svmtest.txt\"\n",
    "dataArr, labelArr = loadDataSet(filestr)\n",
    "b, alphas = naiveSMO(dataArr, labelArr, 0.5, 0.001, 40)\n",
    "draw(alphas, b, dataArr, labelArr)"
   ]
  },
  {
   "cell_type": "code",
   "execution_count": null,
   "metadata": {
    "collapsed": true
   },
   "outputs": [],
   "source": []
  }
 ],
 "metadata": {
  "kernelspec": {
   "display_name": "Python 3",
   "language": "python",
   "name": "python3"
  },
  "language_info": {
   "codemirror_mode": {
    "name": "ipython",
    "version": 3
   },
   "file_extension": ".py",
   "mimetype": "text/x-python",
   "name": "python",
   "nbconvert_exporter": "python",
   "pygments_lexer": "ipython3",
   "version": "3.6.1"
  }
 },
 "nbformat": 4,
 "nbformat_minor": 2
}
