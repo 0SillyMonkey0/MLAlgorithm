{
 "cells": [
  {
   "cell_type": "code",
   "execution_count": 63,
   "metadata": {
    "collapsed": true
   },
   "outputs": [],
   "source": [
    "from numpy import *\n",
    "import matplotlib\n",
    "import matplotlib.pyplot as plt"
   ]
  },
  {
   "cell_type": "code",
   "execution_count": 64,
   "metadata": {
    "collapsed": true
   },
   "outputs": [],
   "source": [
    "from numpy import *\n",
    "import matplotlib\n",
    "import matplotlib.pyplot as plt\n",
    "\n",
    "def load():\n",
    "    x = loadtxt('F:/MLAlgorithm/SVM/logistic_x.txt',dtype = float)\n",
    "    label = loadtxt('F:/MLAlgorithm/SVM/logistic_y.txt',dtype = int)\n",
    "\n",
    "    return x, label\n",
    "\n",
    "def clipAlpha(aj, H, L):\n",
    "    if aj > H:\n",
    "        aj = H\n",
    "    if L > aj:\n",
    "        aj = L\n",
    "    return aj"
   ]
  },
  {
   "cell_type": "code",
   "execution_count": 65,
   "metadata": {
    "collapsed": true
   },
   "outputs": [],
   "source": [
    "def naiveSMO(dataMatIn, classLabels, C, toler, maxIter):\n",
    "    dataMatrix = mat(dataMatIn); labelMat = mat(classLabels).transpose()\n",
    "    b = 0; m, n = shape(dataMatrix)\n",
    "    alphas = mat(zeros((m, 1)))\n",
    "    iter = 0\n",
    "    while (iter < maxIter):\n",
    "        alphaPairsChanged = 0 \n",
    "        for i in range(m):\n",
    "            fXi = float(multiply(alphas, labelMat).T*(dataMatrix*dataMatrix[i,:].T)) + b \n",
    "            Ei = fXi - float(labelMat[i]) \n",
    "            if ((labelMat[i]*Ei < -toler) and (alphas[i] < C)) or ((labelMat[i]*Ei > toler) and (alphas[i]>0)):\n",
    "                #randomly pick j\n",
    "                j = random.randint(n)\n",
    "                while i == j:\n",
    "                    j = random.randint(n)\n",
    "               \n",
    "                fXj = float(multiply(alphas, labelMat).T*(dataMatrix*dataMatrix[j, :].T)) + b\n",
    "                Ej = fXj - float(labelMat[j])\n",
    "                alphaIold = alphas[i].copy()\n",
    "                alphaJold = alphas[j].copy()\n",
    "                if (labelMat[i] != labelMat[j]):\n",
    "                    L = max(0, alphas[j] - alphas[i])\n",
    "                    H = min(C, C + alphas[j] - alphas[i])\n",
    "                else:\n",
    "                    L = max(0, alphas[j]+alphas[i] - C)\n",
    "                    H = min(C, alphas[j]+alphas[i])\n",
    "                if L == H: \n",
    "                    continue\n",
    "                eta = 2.0 * dataMatrix[i, :]*dataMatrix[j,:].T-dataMatrix[i,:]*dataMatrix[i,:].T-dataMatrix[j,:]*dataMatrix[j,:].T\n",
    "                if eta >= 0: \n",
    "                    continue\n",
    "                                    \n",
    "                # update alpha\n",
    "                alphas[j] -= labelMat[j]*(Ei-Ej)/eta\n",
    "                alphas[j] = clipAlpha(alphas[j], H, L)\n",
    "                if (abs(alphas[j] - alphaJold) < 0.00001):    # j dose not move enough\n",
    "                    continue           \n",
    "                alphas[i] += labelMat[j] * labelMat[i] * (alphaJold-alphas[j])\n",
    "                \n",
    "                # update b\n",
    "                b1 = b - Ei - labelMat[i]*(alphas[i]-alphaIold)*dataMatrix[i,:]*dataMatrix[i,:].T-labelMat[j]*(alphas[j]-alphaJold)*dataMatrix[i,:]*dataMatrix[j,:].T\n",
    "                b2 = b - Ej - labelMat[i]*(alphas[i]-alphaIold)*dataMatrix[i,:]*dataMatrix[j,:].T-labelMat[j]*(alphas[j]-alphaJold)*dataMatrix[j,:]*dataMatrix[j,:].T\n",
    "                if (0 < alphas[i]) and (C > alphas[i]): b = b1\n",
    "                elif (0 < alphas[j]) and (C > alphas[j]): b = b2\n",
    "                else: b = (b1 + b2)/2.0\n",
    "                alphaPairsChanged += 1\n",
    "\n",
    "        if (alphaPairsChanged == 0): iter += 1\n",
    "        else: iter = 0\n",
    "\n",
    "    return b, alphas\n",
    "    "
   ]
  },
  {
   "cell_type": "code",
   "execution_count": 69,
   "metadata": {
    "collapsed": true
   },
   "outputs": [],
   "source": [
    "def draw(alpha, bet, data, label):\n",
    "    plt.xlim(0, 8)\n",
    "    for i in range(len(label)):\n",
    "        if label[i] > 0:\n",
    "            plt.plot(data[i][0], data[i][1], 'or')\n",
    "        else:\n",
    "            plt.plot(data[i][0], data[i][1], 'ob')\n",
    "    w1 = 0.0\n",
    "    w2 = 0.0\n",
    "    for i in range(len(label)):\n",
    "        w1 += alpha[i] * label[i] * data[i][0]\n",
    "        w2 += alpha[i] * label[i] * data[i][1]\n",
    "    w = float(- w1 / w2)\n",
    "    \n",
    "    b = float(- bet / w2)\n",
    "    r = float(1 / w2)\n",
    "    lp_x1 = list([1, 7])\n",
    "    lp_x2 = []\n",
    "    lp_x2up = []\n",
    "    lp_x2down = []\n",
    "    for x1 in lp_x1:\n",
    "        lp_x2.append(w * x1 + b)\n",
    "        lp_x2up.append(w * x1 + b + r)\n",
    "        lp_x2down.append(w * x1 + b - r)\n",
    "    lp_x2 = list(lp_x2)\n",
    "    lp_x2up = list(lp_x2up)\n",
    "    lp_x2down = list(lp_x2down)\n",
    "    plt.plot(lp_x1, lp_x2, 'g')\n",
    "\n",
    "    plt.show()"
   ]
  },
  {
   "cell_type": "code",
   "execution_count": 70,
   "metadata": {},
   "outputs": [
    {
     "data": {
      "text/plain": [
       "array([-1, -1, -1, -1, -1, -1, -1, -1, -1, -1, -1, -1, -1, -1, -1, -1, -1,\n",
       "       -1, -1, -1, -1, -1, -1, -1, -1, -1, -1, -1, -1, -1, -1, -1, -1, -1,\n",
       "       -1, -1, -1, -1, -1, -1, -1, -1, -1, -1, -1, -1, -1, -1, -1, -1,  1,\n",
       "        1,  1,  1,  1,  1,  1,  1,  1,  1,  1,  1,  1,  1,  1,  1,  1,  1,\n",
       "        1,  1,  1,  1,  1,  1,  1,  1,  1,  1,  1,  1,  1,  1,  1,  1,  1,\n",
       "        1,  1,  1,  1,  1,  1,  1,  1,  1,  1,  1,  1,  1,  1])"
      ]
     },
     "execution_count": 70,
     "metadata": {},
     "output_type": "execute_result"
    }
   ],
   "source": [
    "dataArr, labelArr = load()\n",
    "labelArr"
   ]
  },
  {
   "cell_type": "code",
   "execution_count": 71,
   "metadata": {},
   "outputs": [
    {
     "data": {
      "image/png": "[encoded data removed]",
      "text/plain": [
       "<matplotlib.figure.Figure at 0x2793d906f60>"
      ]
     },
     "metadata": {},
     "output_type": "display_data"
    }
   ],
   "source": [
    "b, alphas = naiveSMO(dataArr, labelArr, 0.5, 0.001, 40)\n",
    "draw(alphas, b, dataArr, labelArr)"
   ]
  },
  {
   "cell_type": "code",
   "execution_count": null,
   "metadata": {
    "collapsed": true
   },
   "outputs": [],
   "source": []
  }
 ],
 "metadata": {
  "kernelspec": {
   "display_name": "Python 3",
   "language": "python",
   "name": "python3"
  },
  "language_info": {
   "codemirror_mode": {
    "name": "ipython",
    "version": 3
   },
   "file_extension": ".py",
   "mimetype": "text/x-python",
   "name": "python",
   "nbconvert_exporter": "python",
   "pygments_lexer": "ipython3",
   "version": "3.6.1"
  }
 },
 "nbformat": 4,
 "nbformat_minor": 2
}
