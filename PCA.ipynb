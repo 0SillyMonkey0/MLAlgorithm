{
 "cells": [
  {
   "cell_type": "code",
   "execution_count": 1,
   "metadata": {
    "collapsed": true
   },
   "outputs": [],
   "source": [
    "import numpy as np"
   ]
  },
  {
   "cell_type": "code",
   "execution_count": 33,
   "metadata": {},
   "outputs": [],
   "source": [
    "def PCA(data, dimension):\n",
    "    samples, features = data.shape\n",
    "    means = np.tile(np.mean(data, axis = 0), (samples, 1))\n",
    "    normal_data = data - means\n",
    "    cov = np.cov(normal_data.T)     #calculate covariance matrix\n",
    "    eig_vals, eig_vecs = np.linalg.eig(cov)   #extrat eigenvalue\n",
    "    \n",
    "    eig_pairs = [(np.abs(eig_vals[i]), eig_vecs[:, i]) for i in range(features) ]\n",
    "    eig_pairs.sort(reverse = True)\n",
    "    \n",
    "    selectVec = np.array([sel[1] for sel in eig_pairs[:dimension]])\n",
    "    data = np.dot(normal_data, selectVec.T)\n",
    "    return data"
   ]
  },
  {
   "cell_type": "code",
   "execution_count": 34,
   "metadata": {
    "collapsed": true
   },
   "outputs": [],
   "source": [
    "scaled_x = np.array([2.5, 0.5, 2.2, 1.9, 3.1, 2.3, 2, 1, 1.5, 1.1])\n",
    "scaled_y = np.array([2.4, 0.7, 2.9, 2.2, 3.0, 2.7, 1.6, 1.1, 1.6, 0.9])\n",
    "data = np.matrix([[scaled_x[i], scaled_y[i]] for i in range(len(scaled_x))])"
   ]
  },
  {
   "cell_type": "code",
   "execution_count": 35,
   "metadata": {},
   "outputs": [
    {
     "data": {
      "text/plain": [
       "matrix([[ 2.5,  2.4],\n",
       "        [ 0.5,  0.7],\n",
       "        [ 2.2,  2.9],\n",
       "        [ 1.9,  2.2],\n",
       "        [ 3.1,  3. ],\n",
       "        [ 2.3,  2.7],\n",
       "        [ 2. ,  1.6],\n",
       "        [ 1. ,  1.1],\n",
       "        [ 1.5,  1.6],\n",
       "        [ 1.1,  0.9]])"
      ]
     },
     "execution_count": 35,
     "metadata": {},
     "output_type": "execute_result"
    }
   ],
   "source": [
    "data"
   ]
  },
  {
   "cell_type": "code",
   "execution_count": 36,
   "metadata": {},
   "outputs": [
    {
     "data": {
      "text/plain": [
       "matrix([[-0.82797019, -0.17511531],\n",
       "        [ 1.77758033,  0.14285723],\n",
       "        [-0.99219749,  0.38437499],\n",
       "        [-0.27421042,  0.13041721],\n",
       "        [-1.67580142, -0.20949846],\n",
       "        [-0.9129491 ,  0.17528244],\n",
       "        [ 0.09910944, -0.3498247 ],\n",
       "        [ 1.14457216,  0.04641726],\n",
       "        [ 0.43804614,  0.01776463],\n",
       "        [ 1.22382056, -0.16267529]])"
      ]
     },
     "execution_count": 36,
     "metadata": {},
     "output_type": "execute_result"
    }
   ],
   "source": [
    "PCA(data, 2)"
   ]
  },
  {
   "cell_type": "code",
   "execution_count": null,
   "metadata": {
    "collapsed": true
   },
   "outputs": [],
   "source": []
  }
 ],
 "metadata": {
  "kernelspec": {
   "display_name": "Python 3",
   "language": "python",
   "name": "python3"
  },
  "language_info": {
   "codemirror_mode": {
    "name": "ipython",
    "version": 3
   },
   "file_extension": ".py",
   "mimetype": "text/x-python",
   "name": "python",
   "nbconvert_exporter": "python",
   "pygments_lexer": "ipython3",
   "version": "3.6.1"
  }
 },
 "nbformat": 4,
 "nbformat_minor": 2
}
