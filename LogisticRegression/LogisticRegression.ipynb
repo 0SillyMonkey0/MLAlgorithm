{
 "cells": [
  {
   "cell_type": "code",
   "execution_count": 107,
   "metadata": {
    "collapsed": true
   },
   "outputs": [],
   "source": [
    "from numpy import *\n",
    "from numpy.linalg import inv\n",
    "import matplotlib.pyplot as plt\n",
    "from sklearn.linear_model import LogisticRegression"
   ]
  },
  {
   "cell_type": "code",
   "execution_count": 108,
   "metadata": {
    "collapsed": true
   },
   "outputs": [],
   "source": [
    "def load():\n",
    "    x = loadtxt('F:/MLAlgorithm/Logistic/logistic_x.txt',dtype = float)\n",
    "    label = loadtxt('F:/MLAlgorithm/Logistic/logistic_y.txt',dtype = int)\n",
    "    m,n = shape(x)\n",
    "    x0 = ones((m,1))\n",
    "    data = c_[x0,x]\n",
    "    datamat = mat(data)\n",
    "    labelmat = mat(label).T\n",
    "    return datamat, labelmat"
   ]
  },
  {
   "cell_type": "code",
   "execution_count": 109,
   "metadata": {
    "collapsed": true
   },
   "outputs": [],
   "source": [
    "datamat, labelmat = load()"
   ]
  },
  {
   "cell_type": "code",
   "execution_count": 110,
   "metadata": {
    "collapsed": true
   },
   "outputs": [],
   "source": [
    "def sigmoid(x):\n",
    "    return 1.0/(1 + exp(-x))"
   ]
  },
  {
   "cell_type": "code",
   "execution_count": 111,
   "metadata": {
    "collapsed": true
   },
   "outputs": [],
   "source": [
    "def batchGradAscent(dataMat,labelMat):\n",
    "    alpha = 0.001\n",
    "    maxCycles = 100000\n",
    "    m, n = shape(dataMat)  \n",
    "    weights = ones((n, 1))   \n",
    "    for i in range(maxCycles):  \n",
    "        h = sigmoid(dataMat*weights)  \n",
    "        error = labelMat - h       \n",
    "        weights += alpha*dataMat.T*error  \n",
    "    return weights "
   ]
  },
  {
   "cell_type": "code",
   "execution_count": 112,
   "metadata": {
    "collapsed": true
   },
   "outputs": [],
   "source": [
    "def stocGradAscent(dataMat,labelMat):\n",
    "    alpha = 0.3\n",
    "    m,n = shape(dataMat)\n",
    "    weights = ones((n,1))   \n",
    "    for i in range(m):\n",
    "        h = sigmoid(dot(dataMat[i], weights))\n",
    "        error = float(labelMat[i] - h)\n",
    "        weights += alpha*error*dataMat[i].transpose()\n",
    "    return weights\n"
   ]
  },
  {
   "cell_type": "code",
   "execution_count": 113,
   "metadata": {
    "collapsed": true
   },
   "outputs": [],
   "source": [
    "def newtonMethod(dataMat, labelMat):\n",
    "    maxCycles = 100\n",
    "    m, n = shape(dataMat)\n",
    "    weights = mat(zeros(n)).T\n",
    "    gradient = mat(zeros(n)).T\n",
    "    hessian = mat(zeros((n,n)))\n",
    "    for j in range(maxCycles):\n",
    "        for i in range(m):\n",
    "            error = float(sigmoid(weights.T * dataMat[i, :].T) - labelMat[i])\n",
    "            gradient += error*dataMat[i, :].T\n",
    "        gradient = gradient / m\n",
    "        \n",
    "        for i in range(m):\n",
    "            hessian += sigmoid(float(weights.T * dataMat[i,:].T)) * (1 - sigmoid(float(weights.T * dataMat[i,:].T))) * dataMat[i,:].T * dataMat[i,:]\n",
    "        hessian = hessian / m\n",
    "        hessian_inv = inv(hessian)\n",
    "        weights = weights - hessian_inv * gradient\n",
    "    return weights"
   ]
  },
  {
   "cell_type": "code",
   "execution_count": 114,
   "metadata": {},
   "outputs": [
    {
     "name": "stderr",
     "output_type": "stream",
     "text": [
      "D:\\Anaconda\\lib\\site-packages\\sklearn\\utils\\validation.py:526: DataConversionWarning: A column-vector y was passed when a 1d array was expected. Please change the shape of y to (n_samples, ), for example using ravel().\n",
      "  y = column_or_1d(y, warn=True)\n"
     ]
    },
    {
     "data": {
      "text/plain": [
       "LogisticRegression(C=1.0, class_weight=None, dual=False, fit_intercept=True,\n",
       "          intercept_scaling=1, max_iter=100, multi_class='ovr', n_jobs=1,\n",
       "          penalty='l2', random_state=None, solver='liblinear', tol=0.0001,\n",
       "          verbose=0, warm_start=False)"
      ]
     },
     "execution_count": 114,
     "metadata": {},
     "output_type": "execute_result"
    }
   ],
   "source": [
    "sk = LogisticRegression()\n",
    "sk.fit(datamat, labelmat)\n"
   ]
  },
  {
   "cell_type": "code",
   "execution_count": 117,
   "metadata": {},
   "outputs": [
    {
     "name": "stderr",
     "output_type": "stream",
     "text": [
      "D:\\Anaconda\\lib\\site-packages\\ipykernel_launcher.py:2: RuntimeWarning: overflow encountered in exp\n",
      "  \n"
     ]
    }
   ],
   "source": [
    "batchWeights = batchGradAscent(datamat, labelmat)\n",
    "stocWeights = stocGradAscent(datamat, labelmat)\n",
    "newtonWeights = newtonMethod(datamat, labelmat)\n",
    "skWeights = mat(sk.coef_).T"
   ]
  },
  {
   "cell_type": "code",
   "execution_count": 121,
   "metadata": {},
   "outputs": [
    {
     "data": {
      "image/png": "[encoded data removed]",
      "text/plain": [
       "<matplotlib.figure.Figure at 0x1d9f191b5f8>"
      ]
     },
     "metadata": {},
     "output_type": "display_data"
    }
   ],
   "source": [
    "m,n = shape(datamat)\n",
    "fig = plt.figure()\n",
    "ax = fig.add_subplot(111)\n",
    "for i in range(m):\n",
    "    if(float(labelmat[i]) == 1):\n",
    "        ax.scatter(array(datamat[i,1]), array(datamat[i,2]), c =  'r')\n",
    "    else:\n",
    "        ax.scatter(array(datamat[i,1]), array(datamat[i,2]), c = 'b')\n",
    "x1 = arange(0,9,0.5)\n",
    "x2 = (-float(batchWeights[0]) - float(batchWeights[1]) * x1) / float(batchWeights[2] )\n",
    "x3 = (-float(stocWeights[0]) - float(stocWeights[1]) * x1) / float(stocWeights[2] )\n",
    "x4 = (-float(newtonWeights[0]) - float(newtonWeights[1]) * x1) / float(newtonWeights[2] )\n",
    "x5 = (-float(skWeights[0]) - float(skWeights[1]) * x1) / float(skWeights[2] )\n",
    "\n",
    "ax.plot(x1, x2, color=\"c\",  linestyle=\"-\", label=\"batch\")\n",
    "ax.plot(x1, x3, color=\"black\",   linestyle=\"-\", label=\"stoc\")\n",
    "ax.plot(x1, x4, color=\"green\",   linestyle=\"-\", label=\"newton\")\n",
    "ax.plot(x1, x5, color=\"m\",   linestyle=\"-\", label=\"sk\")\n",
    "plt.legend(loc='upper left')\n",
    "\n",
    "plt.show()"
   ]
  },
  {
   "cell_type": "code",
   "execution_count": null,
   "metadata": {
    "collapsed": true
   },
   "outputs": [],
   "source": []
  },
  {
   "cell_type": "code",
   "execution_count": null,
   "metadata": {
    "collapsed": true
   },
   "outputs": [],
   "source": []
  }
 ],
 "metadata": {
  "kernelspec": {
   "display_name": "Python 3",
   "language": "python",
   "name": "python3"
  },
  "language_info": {
   "codemirror_mode": {
    "name": "ipython",
    "version": 3
   },
   "file_extension": ".py",
   "mimetype": "text/x-python",
   "name": "python",
   "nbconvert_exporter": "python",
   "pygments_lexer": "ipython3",
   "version": "3.6.1"
  }
 },
 "nbformat": 4,
 "nbformat_minor": 2
}
